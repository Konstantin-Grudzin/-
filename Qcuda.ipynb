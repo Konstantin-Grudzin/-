{
  "nbformat": 4,
  "nbformat_minor": 0,
  "metadata": {
    "colab": {
      "provenance": [],
      "gpuType": "T4",
      "authorship_tag": "ABX9TyN48qYyRc/7IycfnVPp38rr",
      "include_colab_link": true
    },
    "kernelspec": {
      "name": "python3",
      "display_name": "Python 3"
    },
    "language_info": {
      "name": "python"
    },
    "accelerator": "GPU"
  },
  "cells": [
    {
      "cell_type": "markdown",
      "metadata": {
        "id": "view-in-github",
        "colab_type": "text"
      },
      "source": [
        "<a href=\"https://colab.research.google.com/github/Konstantin-Grudzin/-/blob/main/Qcuda.ipynb\" target=\"_parent\"><img src=\"https://colab.research.google.com/assets/colab-badge.svg\" alt=\"Open In Colab\"/></a>"
      ]
    },
    {
      "cell_type": "code",
      "execution_count": 1,
      "metadata": {
        "colab": {
          "base_uri": "https://localhost:8080/"
        },
        "id": "DuPpG_J1MgZF",
        "outputId": "c69f66f3-73cc-4fba-ca26-975a74dbf0f9"
      },
      "outputs": [
        {
          "output_type": "stream",
          "name": "stdout",
          "text": [
            "nvcc: NVIDIA (R) Cuda compiler driver\n",
            "Copyright (c) 2005-2024 NVIDIA Corporation\n",
            "Built on Thu_Jun__6_02:18:23_PDT_2024\n",
            "Cuda compilation tools, release 12.5, V12.5.82\n",
            "Build cuda_12.5.r12.5/compiler.34385749_0\n"
          ]
        }
      ],
      "source": [
        "!nvcc --version"
      ]
    },
    {
      "cell_type": "code",
      "source": [
        "!pip install nvcc4jupyter"
      ],
      "metadata": {
        "colab": {
          "base_uri": "https://localhost:8080/"
        },
        "id": "OW_HuFOZNA4X",
        "outputId": "69f84c6b-3ef7-478b-d49f-f733b45124c9"
      },
      "execution_count": 2,
      "outputs": [
        {
          "output_type": "stream",
          "name": "stdout",
          "text": [
            "Collecting nvcc4jupyter\n",
            "  Downloading nvcc4jupyter-1.2.1-py3-none-any.whl.metadata (5.1 kB)\n",
            "Downloading nvcc4jupyter-1.2.1-py3-none-any.whl (10 kB)\n",
            "Installing collected packages: nvcc4jupyter\n",
            "Successfully installed nvcc4jupyter-1.2.1\n"
          ]
        }
      ]
    },
    {
      "cell_type": "code",
      "source": [
        "%load_ext nvcc4jupyter"
      ],
      "metadata": {
        "colab": {
          "base_uri": "https://localhost:8080/"
        },
        "id": "C4_XN1jvNB37",
        "outputId": "a106606b-4e27-4b90-f01e-cc849e60adae"
      },
      "execution_count": 3,
      "outputs": [
        {
          "output_type": "stream",
          "name": "stdout",
          "text": [
            "Detected platform \"Colab\". Running its setup...\n",
            "Source files will be saved in \"/tmp/tmpogb7kn_b\".\n"
          ]
        }
      ]
    },
    {
      "cell_type": "code",
      "source": [
        "%%writefile cuda.h\n",
        "#ifndef CUDA_H\n",
        "#define CUDA_H\n",
        "\n",
        "#include <thrust/complex.h>\n",
        "using Complex = thrust::complex<double>;\n",
        "\n",
        "// Прототип функции ядра\n",
        "__global__ void H_cuda(Complex* v, int n, int ind);\n",
        "__global__ void X_cuda(Complex* v, int n,int ind);\n",
        "__global__ void Z_cuda(Complex* v, int n, int ind);\n",
        "__global__ void Ph_cuda(Complex* v, int n, int ind,double phi);\n",
        "#endif // CUDA_H"
      ],
      "metadata": {
        "colab": {
          "base_uri": "https://localhost:8080/"
        },
        "id": "oC1M9BSqe6Al",
        "outputId": "9909065b-fc50-4609-e8d7-4fe0b66f2deb"
      },
      "execution_count": 4,
      "outputs": [
        {
          "output_type": "stream",
          "name": "stdout",
          "text": [
            "Writing cuda.h\n"
          ]
        }
      ]
    },
    {
      "cell_type": "code",
      "source": [
        "%%writefile cuda.cu\n",
        "#include \"cuda.h\"\n",
        "#include <cmath> // для sqrt\n",
        "\n",
        "__global__ void H_cuda(Complex* v, int n, int ind) {\n",
        "    int idx = blockIdx.x * blockDim.x + threadIdx.x;\n",
        "    if (idx < n) {\n",
        "        Complex obrk2(sqrt(0.5), 0);\n",
        "        int mask = (1 << ind) - 1;\n",
        "        int back = idx & mask;\n",
        "        int fwd = idx & (~mask);\n",
        "        fwd <<= 1;\n",
        "        int nid = fwd | back;\n",
        "        Complex t0 = obrk2 * v[nid];\n",
        "        Complex t1 = obrk2 * v[nid + (1 << ind)];\n",
        "        v[nid] = t0 + t1;\n",
        "        v[nid + (1 << ind)] = t0 - t1;\n",
        "    }\n",
        "}\n",
        "\n",
        "__global__ void X_cuda(Complex* v, int n, int ind) {\n",
        "    int idx = blockIdx.x * blockDim.x + threadIdx.x;\n",
        "    if (idx < n) {\n",
        "        int mask = (1 << ind) - 1;\n",
        "        int back = idx & mask;\n",
        "        int fwd = idx & (~mask);\n",
        "        fwd <<= 1;\n",
        "        int nid = fwd | back;\n",
        "        Complex t0 = v[nid];\n",
        "        v[nid]=v[nid + (1 << ind)];\n",
        "        v[nid + (1 << ind)] = t0;\n",
        "    }\n",
        "}\n",
        "\n",
        "__global__ void Z_cuda(Complex* v, int n, int ind) {\n",
        "    int idx = blockIdx.x * blockDim.x + threadIdx.x;\n",
        "    if (idx < n) {\n",
        "        int mask = (1 << ind) - 1;\n",
        "        int back = idx & mask;\n",
        "        int fwd = idx & (~mask);\n",
        "        fwd <<= 1;\n",
        "        int nid = (fwd | back) + (1 << ind);\n",
        "        v[nid]*=-1;\n",
        "    }\n",
        "}\n",
        "\n",
        "__global__ void Ph_cuda(Complex* v, int n, int ind,double phi)\n",
        "{\n",
        "    int idx = blockIdx.x * blockDim.x + threadIdx.x;\n",
        "    if (idx < n) {\n",
        "        Complex exp(cos(phi), sin(phi));\n",
        "        int mask = (1 << ind) - 1;\n",
        "        int back = idx & mask;\n",
        "        int fwd = idx & (~mask);\n",
        "        fwd <<= 1;\n",
        "        int nid = (fwd | back) + (1 << ind);\n",
        "        v[nid]*=exp;\n",
        "    }\n",
        "}\n"
      ],
      "metadata": {
        "colab": {
          "base_uri": "https://localhost:8080/"
        },
        "id": "T8aR8M0chdhw",
        "outputId": "7a3bf603-04c8-4a3b-8706-ff14d332fded"
      },
      "execution_count": 5,
      "outputs": [
        {
          "output_type": "stream",
          "name": "stdout",
          "text": [
            "Writing cuda.cu\n"
          ]
        }
      ]
    },
    {
      "cell_type": "code",
      "source": [
        "%%writefile main.cu\n",
        "#include <iostream>\n",
        "#include <vector>\n",
        "#include <cmath>\n",
        "#include <cuda_runtime.h>\n",
        "#include <chrono>\n",
        "#include \"cuda.h\"\n",
        "\n",
        "using namespace std;\n",
        "\n",
        "using Complex = thrust::complex<double>;\n",
        "\n",
        "vector<Complex> input;\n",
        "Complex *cuda_input;\n",
        "\n",
        "void H(int ind) {\n",
        "    int n = input.size();\n",
        "    int block = 256;\n",
        "    int blocks = ((n>>1) + block - 1) / block;\n",
        "    H_cuda<<<blocks, block>>>(cuda_input, (n>>1),ind);\n",
        "}\n",
        "\n",
        "void X(int ind){\n",
        "    int n = input.size();\n",
        "    int block = 256;\n",
        "    int blocks = ((n>>1) + block - 1) / block;\n",
        "    X_cuda<<<blocks, block>>>(cuda_input, (n>>1),ind);\n",
        "}\n",
        "\n",
        "void Z(int ind)\n",
        "{\n",
        "    int n = input.size();\n",
        "    int block = 256;\n",
        "    int blocks = ((n>>1) + block - 1) / block;\n",
        "    Z_cuda<<<blocks, block>>>(cuda_input, (n>>1),ind);\n",
        "}\n",
        "\n",
        "void Ph(int ind,double phi)\n",
        "{\n",
        "    int n = input.size();\n",
        "    int block = 256;\n",
        "    int blocks = ((n>>1) + block - 1) / block;\n",
        "    Ph_cuda<<<blocks, block>>>(cuda_input, (n>>1),ind,phi);\n",
        "}\n",
        "\n",
        "inline void WORK()\n",
        "{\n",
        "  for(int i=0;i<100;++i)\n",
        "    H(0);\n",
        "}\n",
        "\n",
        "int main()\n",
        "{\n",
        "const auto start{std::chrono::steady_clock::now()};\n",
        "  //init\n",
        "    int size = 3;\n",
        "    input.resize(1<<(size));\n",
        "    cudaMalloc(&cuda_input, (1<<size)*sizeof(Complex));\n",
        "    input[0]=1;\n",
        "    int sz = (1<<size)*sizeof(Complex);\n",
        "    cudaMemcpy(cuda_input, input.data(), sz, cudaMemcpyHostToDevice);\n",
        "  //------------------------------\n",
        "\n",
        "  WORK();\n",
        "\n",
        "  //do smth with input vector\n",
        "  cudaMemcpy(input.data(), cuda_input, sz, cudaMemcpyDeviceToHost);\n",
        "  for(auto el:input)\n",
        "    cout<<el<<endl;\n",
        "  //---------------------------------------------------------------\n",
        "\n",
        " //end\n",
        "    cudaFree(cuda_input);\n",
        " //-----------------------\n",
        "\n",
        "const auto finish{std::chrono::steady_clock::now()};\n",
        "const std::chrono::duration<double> elapsed_seconds{finish - start};\n",
        "std::cout << elapsed_seconds.count() << '\\n';\n",
        "}\n"
      ],
      "metadata": {
        "colab": {
          "base_uri": "https://localhost:8080/"
        },
        "id": "TI7oi4qnNILi",
        "outputId": "151e8fdd-3c67-4232-b426-70fe777994ba"
      },
      "execution_count": 6,
      "outputs": [
        {
          "output_type": "stream",
          "name": "stdout",
          "text": [
            "Writing main.cu\n"
          ]
        }
      ]
    },
    {
      "cell_type": "code",
      "source": [
        "%%bash\n",
        "nvcc cuda.cu main.cu -o gelu -arch=sm_75\n",
        "./gelu"
      ],
      "metadata": {
        "colab": {
          "base_uri": "https://localhost:8080/"
        },
        "id": "MY97MZHyNTj2",
        "outputId": "ac63600f-c343-49eb-d360-bee269f5d0cf"
      },
      "execution_count": 8,
      "outputs": [
        {
          "output_type": "stream",
          "name": "stdout",
          "text": [
            "(1,0)\n",
            "(0,0)\n",
            "(0,0)\n",
            "(0,0)\n",
            "(0,0)\n",
            "(0,0)\n",
            "(0,0)\n",
            "(0,0)\n",
            "0.106276\n"
          ]
        }
      ]
    },
    {
      "cell_type": "code",
      "source": [],
      "metadata": {
        "id": "Qp6FhLn6o5-x"
      },
      "execution_count": null,
      "outputs": []
    }
  ]
}